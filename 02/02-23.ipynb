{
 "cells": [
  {
   "cell_type": "markdown",
   "metadata": {},
   "source": [
    "## Ok, here we go again.\n",
    "This exercise is basically about getting the data from a string of games and deterimining which games would be possible with the following:\n",
    "\n",
    "The Elf would first like to know which games would have been possible if the bag contained only 12 red cubes, 13 green cubes, and 14 blue cubes?\n",
    "\n",
    "The game output is in games.txt... I guess the first thing to do is get some ints from deez strings."
   ]
  },
  {
   "cell_type": "code",
   "execution_count": 29,
   "metadata": {},
   "outputs": [
    {
     "name": "stdout",
     "output_type": "stream",
     "text": [
      "2486\n"
     ]
    }
   ],
   "source": [
    "import re\n",
    "\n",
    "sum_game_numbers = 0\n",
    "\n",
    "with open('games.txt', 'r') as input: \n",
    "    for line in input:\n",
    "        # Extract game num\n",
    "        game_number = int(re.search(r'Game (\\d+):', line).group(1))\n",
    "\n",
    "        # get the stupid fucking cubes associated with teh game number\n",
    "        for match in re.finditer(r'(\\d+) (red|green|blue)', line):\n",
    "            count, color = int(match.group(1)), match.group(2)\n",
    "            \n",
    "            if (color == 'red' and count > 12) or (color == 'green' and count > 13) or (color == 'blue' and count > 14):\n",
    "                break\n",
    "        else:\n",
    "            sum_game_numbers += game_number\n",
    "\n",
    "print(f\"{sum_game_numbers}\")\n"
   ]
  }
 ],
 "metadata": {
  "kernelspec": {
   "display_name": "Python 3",
   "language": "python",
   "name": "python3"
  },
  "language_info": {
   "codemirror_mode": {
    "name": "ipython",
    "version": 3
   },
   "file_extension": ".py",
   "mimetype": "text/x-python",
   "name": "python",
   "nbconvert_exporter": "python",
   "pygments_lexer": "ipython3",
   "version": "3.9.6"
  }
 },
 "nbformat": 4,
 "nbformat_minor": 2
}
