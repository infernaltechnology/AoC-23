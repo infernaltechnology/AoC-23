{
 "cells": [
  {
   "cell_type": "markdown",
   "metadata": {},
   "source": [
    "## Ok, here we go again.\n",
    "This exercise is basically about getting the data from a string of games and deterimining which games would be possible with the following:\n",
    "\n",
    "The Elf would first like to know which games would have been possible if the bag contained only 12 red cubes, 13 green cubes, and 14 blue cubes?\n",
    "\n",
    "The game output is in games.txt... I guess the first thing to do is get some ints from deez strings."
   ]
  },
  {
   "cell_type": "code",
   "execution_count": 29,
   "metadata": {},
   "outputs": [
    {
     "name": "stdout",
     "output_type": "stream",
     "text": [
      "2486\n"
     ]
    }
   ],
   "source": [
    "import re\n",
    "\n",
    "sum_game_numbers = 0\n",
    "\n",
    "with open('games.txt', 'r') as input: \n",
    "    for line in input:\n",
    "        # Extract game num\n",
    "        game_number = int(re.search(r'Game (\\d+):', line).group(1))\n",
    "\n",
    "        # get the stupid fucking cubes associated with teh game number\n",
    "        for match in re.finditer(r'(\\d+) (red|green|blue)', line):\n",
    "            count, color = int(match.group(1)), match.group(2)\n",
    "            \n",
    "            if (color == 'red' and count > 12) or (color == 'green' and count > 13) or (color == 'blue' and count > 14):\n",
    "                break\n",
    "        else:\n",
    "            sum_game_numbers += game_number\n",
    "\n",
    "print(f\"{sum_game_numbers}\")\n"
   ]
  },
  {
   "cell_type": "markdown",
   "metadata": {},
   "source": [
    "## ok, part 2.\n",
    "\n",
    "Again consider the example games from earlier:\n",
    "\n",
    "Game 1: 3 blue, 4 red; 1 red, 2 green, 6 blue; 2 green\n",
    "Game 2: 1 blue, 2 green; 3 green, 4 blue, 1 red; 1 green, 1 blue\n",
    "Game 3: 8 green, 6 blue, 20 red; 5 blue, 4 red, 13 green; 5 green, 1 red\n",
    "Game 4: 1 green, 3 red, 6 blue; 3 green, 6 red; 3 green, 15 blue, 14 red\n",
    "Game 5: 6 red, 1 blue, 3 green; 2 blue, 1 red, 2 green\n",
    "\n",
    "In game 1, the game could have been played with as few as 4 red, 2 green, and 6 blue cubes. If any color had even one fewer cube, the game would have been impossible.\n",
    "\n",
    "Game 2 could have been played with a minimum of 1 red, 3 green, and 4 blue cubes.\n",
    "\n",
    "Game 3 must have been played with at least 20 red, 13 green, and 6 blue cubes.\n",
    "\n",
    "Game 4 required at least 14 red, 3 green, and 15 blue cubes.\n",
    "\n",
    "Game 5 needed no fewer than 6 red, 3 green, and 2 blue cubes in the bag.\n",
    "\n",
    "The power of a set of cubes is equal to the numbers of red, green, and blue cubes multiplied together. The power of the minimum set of cubes in game 1 is 48. In games 2-5 it was 12, 1560, 630, and 36, respectively. Adding up these five powers produces the sum 2286.\n",
    "\n",
    "For each game, find the minimum set of cubes that must have been present. What is the sum of the power of these sets?\n",
    "\n",
    "#### so, find the max of each color, multiply the 3 numbers, and then sum that output across all games.\n",
    "\n",
    "I guess we can just start where we left off an jack it right up.\n"
   ]
  },
  {
   "cell_type": "code",
   "execution_count": 39,
   "metadata": {},
   "outputs": [
    {
     "name": "stdout",
     "output_type": "stream",
     "text": [
      "87984\n"
     ]
    }
   ],
   "source": [
    "import re\n",
    "\n",
    "sum_of_dat_powah = 0\n",
    "\n",
    "with open('games.txt', 'r') as input: \n",
    "    for line in input:\n",
    "        # Extract game num\n",
    "        game_number = int(re.search(r'Game (\\d+):', line).group(1))\n",
    "\n",
    "        # all the cubes in a list, please.\n",
    "        count_red = [int(match.group(1)) for match in re.finditer(r'(\\d+) red', line)]\n",
    "        count_green = [int(match.group(1)) for match in re.finditer(r'(\\d+) green', line)]\n",
    "        count_blue = [int(match.group(1)) for match in re.finditer(r'(\\d+) blue', line)]\n",
    "        \n",
    "        #maximum effort, maximum fun, the maximum number of cubes per game\n",
    "        red_max = max(count_red)\n",
    "        green_max = max(count_green)\n",
    "        blue_max = max(count_blue)\n",
    "\n",
    "        #unlimited powah\n",
    "        unlimited_powah = green_max * red_max * blue_max\n",
    "\n",
    "        #sum of dat powah\n",
    "        sum_of_dat_powah += unlimited_powah\n",
    "\n",
    "print(f\"{sum_of_dat_powah}\")"
   ]
  },
  {
   "cell_type": "code",
   "execution_count": null,
   "metadata": {},
   "outputs": [],
   "source": []
  }
 ],
 "metadata": {
  "kernelspec": {
   "display_name": "Python 3",
   "language": "python",
   "name": "python3"
  },
  "language_info": {
   "codemirror_mode": {
    "name": "ipython",
    "version": 3
   },
   "file_extension": ".py",
   "mimetype": "text/x-python",
   "name": "python",
   "nbconvert_exporter": "python",
   "pygments_lexer": "ipython3",
   "version": "3.9.6"
  }
 },
 "nbformat": 4,
 "nbformat_minor": 2
}
